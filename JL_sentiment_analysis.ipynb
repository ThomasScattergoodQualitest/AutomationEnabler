{
 "cells": [
  {
   "cell_type": "code",
   "execution_count": 28,
   "id": "07e86e79",
   "metadata": {},
   "outputs": [],
   "source": [
    "import nltk\n",
    "import csv\n",
    "from nltk.corpus import stopwords\n",
    "import string\n",
    "import spacy\n",
    "import numpy as np\n",
    "import re\n",
    "from textblob import TextBlob"
   ]
  },
  {
   "cell_type": "code",
   "execution_count": 2,
   "id": "5524f683",
   "metadata": {},
   "outputs": [
    {
     "data": {
      "text/plain": [
       "{'a',\n",
       " 'about',\n",
       " 'above',\n",
       " 'after',\n",
       " 'again',\n",
       " 'against',\n",
       " 'ain',\n",
       " 'all',\n",
       " 'am',\n",
       " 'an',\n",
       " 'and',\n",
       " 'any',\n",
       " 'are',\n",
       " 'aren',\n",
       " \"aren't\",\n",
       " 'as',\n",
       " 'at',\n",
       " 'be',\n",
       " 'because',\n",
       " 'been',\n",
       " 'before',\n",
       " 'being',\n",
       " 'below',\n",
       " 'between',\n",
       " 'both',\n",
       " 'but',\n",
       " 'by',\n",
       " 'can',\n",
       " 'couldn',\n",
       " \"couldn't\",\n",
       " 'd',\n",
       " 'did',\n",
       " 'didn',\n",
       " \"didn't\",\n",
       " 'do',\n",
       " 'does',\n",
       " 'doesn',\n",
       " \"doesn't\",\n",
       " 'doing',\n",
       " 'don',\n",
       " \"don't\",\n",
       " 'down',\n",
       " 'during',\n",
       " 'each',\n",
       " 'few',\n",
       " 'for',\n",
       " 'from',\n",
       " 'further',\n",
       " 'had',\n",
       " 'hadn',\n",
       " \"hadn't\",\n",
       " 'has',\n",
       " 'hasn',\n",
       " \"hasn't\",\n",
       " 'have',\n",
       " 'haven',\n",
       " \"haven't\",\n",
       " 'having',\n",
       " 'he',\n",
       " 'her',\n",
       " 'here',\n",
       " 'hers',\n",
       " 'herself',\n",
       " 'him',\n",
       " 'himself',\n",
       " 'his',\n",
       " 'how',\n",
       " 'i',\n",
       " 'if',\n",
       " 'in',\n",
       " 'into',\n",
       " 'is',\n",
       " 'isn',\n",
       " \"isn't\",\n",
       " 'it',\n",
       " \"it's\",\n",
       " 'its',\n",
       " 'itself',\n",
       " 'just',\n",
       " 'll',\n",
       " 'm',\n",
       " 'ma',\n",
       " 'me',\n",
       " 'mightn',\n",
       " \"mightn't\",\n",
       " 'more',\n",
       " 'most',\n",
       " 'mustn',\n",
       " \"mustn't\",\n",
       " 'my',\n",
       " 'myself',\n",
       " 'needn',\n",
       " \"needn't\",\n",
       " 'no',\n",
       " 'nor',\n",
       " 'not',\n",
       " 'now',\n",
       " 'o',\n",
       " 'of',\n",
       " 'off',\n",
       " 'on',\n",
       " 'once',\n",
       " 'only',\n",
       " 'or',\n",
       " 'other',\n",
       " 'our',\n",
       " 'ours',\n",
       " 'ourselves',\n",
       " 'out',\n",
       " 'over',\n",
       " 'own',\n",
       " 're',\n",
       " 's',\n",
       " 'same',\n",
       " 'shan',\n",
       " \"shan't\",\n",
       " 'she',\n",
       " \"she's\",\n",
       " 'should',\n",
       " \"should've\",\n",
       " 'shouldn',\n",
       " \"shouldn't\",\n",
       " 'so',\n",
       " 'some',\n",
       " 'such',\n",
       " 't',\n",
       " 'than',\n",
       " 'that',\n",
       " \"that'll\",\n",
       " 'the',\n",
       " 'their',\n",
       " 'theirs',\n",
       " 'them',\n",
       " 'themselves',\n",
       " 'then',\n",
       " 'there',\n",
       " 'these',\n",
       " 'they',\n",
       " 'this',\n",
       " 'those',\n",
       " 'through',\n",
       " 'to',\n",
       " 'too',\n",
       " 'under',\n",
       " 'until',\n",
       " 'up',\n",
       " 've',\n",
       " 'very',\n",
       " 'was',\n",
       " 'wasn',\n",
       " \"wasn't\",\n",
       " 'we',\n",
       " 'were',\n",
       " 'weren',\n",
       " \"weren't\",\n",
       " 'what',\n",
       " 'when',\n",
       " 'where',\n",
       " 'which',\n",
       " 'while',\n",
       " 'who',\n",
       " 'whom',\n",
       " 'why',\n",
       " 'will',\n",
       " 'with',\n",
       " 'won',\n",
       " \"won't\",\n",
       " 'wouldn',\n",
       " \"wouldn't\",\n",
       " 'y',\n",
       " 'you',\n",
       " \"you'd\",\n",
       " \"you'll\",\n",
       " \"you're\",\n",
       " \"you've\",\n",
       " 'your',\n",
       " 'yours',\n",
       " 'yourself',\n",
       " 'yourselves'}"
      ]
     },
     "execution_count": 2,
     "metadata": {},
     "output_type": "execute_result"
    }
   ],
   "source": [
    "stop_words = set(stopwords.words(\"english\"))\n",
    "stop_words"
   ]
  },
  {
   "cell_type": "code",
   "execution_count": 3,
   "id": "6707dbe8",
   "metadata": {},
   "outputs": [],
   "source": [
    "negative = []\n",
    "with open (\"words_negative.csv\", \"r\") as file:\n",
    "    reader = csv.reader(file)\n",
    "    for row in reader:\n",
    "        negative.append(row)"
   ]
  },
  {
   "cell_type": "code",
   "execution_count": 4,
   "id": "20df2cbf",
   "metadata": {},
   "outputs": [],
   "source": [
    "positive = []\n",
    "with open (\"words_positive.csv\", \"r\") as file:\n",
    "    reader = csv.reader(file)\n",
    "    for row in reader:\n",
    "        positive.append(row)"
   ]
  },
  {
   "cell_type": "code",
   "execution_count": 5,
   "id": "10bc40c2",
   "metadata": {},
   "outputs": [],
   "source": [
    "def sentiment(text):\n",
    "    temp = []\n",
    "    text_sent = nltk.sent_tokenize(text)\n",
    "    for sentence in text_sent:\n",
    "        n_count = 0\n",
    "        p_count = 0\n",
    "        sent_words = nltk.word_tokenize(sentence)\n",
    "        for word in sent_words:\n",
    "            for item in positive:\n",
    "                if(word == item[0]):\n",
    "                    p_count += 1\n",
    "            for item in negative:\n",
    "                if (word == item[0]):\n",
    "                    n_count += 1\n",
    "        if(p_count > 0 and n_count ==0):\n",
    "            temp.append(1)\n",
    "        elif(n_count%2 > 0):\n",
    "            temp.append(-1)\n",
    "        elif(n_count%2 == 0 and n_count > 0):\n",
    "            temp.append(1)\n",
    "        else:\n",
    "            temp.append(0)\n",
    "    return temp"
   ]
  },
  {
   "cell_type": "code",
   "execution_count": 35,
   "id": "11d8d27a",
   "metadata": {},
   "outputs": [
    {
     "name": "stdout",
     "output_type": "stream",
     "text": [
      "['Review', ' Name', ' Date']\n",
      "['I am currently a plusnet broadband customer which I am happy to continue using. However as my contract has now ended and plusnet will not give me the new customer\" cashback incentive I am considering switching to John Lewis who are effectively still plusnet to my knowledge. In theory if I switch to John Lewis it should be the same service but I will get the current Â£75 black Friday deal as a new customer. Has anyone used both providers before? I am presuming it would be a fairly straightforward switch over considering they are effectively the same isp.\"', ' \"Lucy\"', ' \"1 month ago\"']\n",
      "[\"Avoid. Avoid. Avoid. First John Lewis Broadband failed to process my order and I incurred increased charges from my old supplier. Then John Lewis Broadband never actually got around to pressing the 'on' button to connect my broadband when they were supposed to. Just when I thought I'd escaped these incompetents by moving to a new supplier when they jacked their prices up - it now turns out that John Lewis Broadband haven't actually disconnected my broadband and think they are still supplying me. Customer service don't know what they're doing and don't respond to online messages sent via my account. This is gong to effect my future relationship with Plusnet who I believe are the brains behind this outfit. Very damaging for their brand to be associated with this lot.\", ' \"BJ\"', ' \"7 months ago\"']\n",
      "[\"They've taken my money and won't refund. I cancelled within 14 days. Since they lied to make a sale and it wasn't possible to get the service they said they would. In addition to this they never spelt my name email etc correctly and were unable to correct this. They've taken my Â£29 and no one will give it back. i've spoken with over 10 'customer reps' each one less willing to help than the last. Many don't have a good grasp of english and don't want to help. A manager promised to call back but didn't.\", ' \"Nic\"', ' \"7 months ago\"']\n",
      "['I ordered broadband with telephone for a recently rented property and paid Â£75.00 up front. I was offered three dates for an engineer to visit and the box would be delivered beforehand.\\nNeedless to say I have not received the box and no engineer has arrived. I went online to my account and tried to make contact firstly via a mail box however I gave not received a response despite the promise of a reply within 24hrs. I also telephoned the customer service number and waited more than 3hours on hold before giving up.\\nJohn Lewis should stick to retail and not venture into areas they cannot deliver on.\\nI am at the stage now that I will never spend money on anything related to the John Lewis/Waitrose group in future.', ' \"David7667\"', ' \"1 year ago\"']\n",
      "['Poor internet phone line went down a few times', ' \"clifford\"', ' \"1 year ago\"']\n",
      "[\"I ordered broadband 5 weeks ago still not heard anything. As I am writing this review I am on hold for the third day in a row to try and get through to cancel my order. At the moment I am into 103 minutes on hold. I am determined to get to speak to someone to cancel. I tried there online method which they say that they respond to in 24 hrs but that was 6 days ago. I don't normally write reviews but this service is RUBBISH and so is the music whilst your being ignored by the shocking staff.\", ' \"Ken\"', ' \"1 year ago\"']\n",
      "['Have waited 3 weeks since I applied for John Lewis broadband I shouldâ€™ve gone live on the 19th and every day when I phone they tell me 48 hours 40 hours later they tell me 48 hours et cetera et cetera I have asked to speak to a supervisor or manager and they tell me they donâ€™t exist and that basically I just have to keep putting up with it terrible to treat people in isolation like this.', ' \"Shirley chandler\"', ' \"1 year ago\"']\n",
      "[\"If I could give zero or negative ratings I would. Dire customer service broadband speeds not as promised and additionally they promised an engineer to visit for connection purposes on signing up. The engineer didn't show up and I had taken a day off as A/L. Losing a day of A/L. When i phoned they said even though I had received confirmation of the engineer visiting by email my order had not yet been placed! No refund of anything given for this and internet connection delayed by a month. Please guys cut your losses. Do not sign up with JL broadband.\", ' \"Moe\"', ' \"1 year ago\"']\n",
      "['John Lewis broadband deserve a positive review my parents use them and never have any problems. This is who I will be switching to when my contract expires next month.', ' \"Christopher J\"', ' \"2 years ago\"']\n",
      "['Avoid. Avoid. Avoid.\\n\\nThe worst broadband quality and poorest service Iâ€™ve ever encountered.\\n\\nService just cut out endlessly every day.. Spent 4 months trying to rectify by speaking with technical support. 8 different people suggested 8 alternative â€˜fixesâ€™. None worked. Am currently in process of transferring.\\n\\nRelative also experiencing similar pitifully slow interrupted broadband. Have terminated contract and despite JL agreeing on the phone to waive the early termination fee theyâ€™ve immediately written to an 81 year old lady demanding early closure fees.\\n\\nBy the way JL broadband is just Plusnet with JL fronting it\\n\\nThey are the worst company Iâ€™ve ever had the misfortune to deal with a recommend to avoid like the plague', ' \"Mart\"', ' \"2 years ago\"']\n",
      "[\"Not only my go live date was delayed but once we got the broadband it was absolutely shocking. The connection kept dropping all the time and we spent way too much time talking to their technical support about it. To be fair most of the support staff were pretty good and they did send the engineer to have a look (no faults with the line found). They were pretty funny about cancelling at first trying to tell me that we were bound by the contract but completely ignoring the fact that their service was not fit for purpose. Ended up cancelling after one week of this disastrous connection (or lack of one for the majority of time) after spending a fortune on my mobile data as the broadband was so poor I had to use my mobile hotspot. They didn't even refund me in full arguing that the phone line their supplied was not faulty! Really a let down form John Lewis never again. Signed up with BT straight away and their free public WIFI works better than JL's ever did.\", ' \"monnnn\"', ' \"2 years ago\"']\n",
      "['Never try their broadband. They use a cheap router and you have to change the channels regularly to make it work. We always have drops in our internet upto an hour long and when i ring their technical dept they say that it is expected to have at least 3 or 4 drops every 3 days ive never had that with Sky or anyone else.\\n\\nWe spend over Â£130 a week with Waitrose shopping and buy clothes and electricals from John Lewis and when we said we would cancel all those weekly orders for the sake of a Â£100 cancellation fee the person said i have the ability to remove the cancellation charge but i wont do it even though he knew they would loose Â£6-8000 a year in shopping. What a joke.\\n\\nWe are taking it further so i would let you know what his managers say about loosing Â£8000 a year for the brand to keep Â£100 in his department.', ' \"Rich B\"', ' \"2 years ago\"']\n",
      "['Poor service been with them a year almost and itâ€™s a monthly occurrence - poor internet phone line issues...yet again today phone line is down internet slow have 6 weeks to go till end of my contract...told line fault will be fixed by end of the week...Iâ€™m canâ€™t stand the poor service anymore and Iâ€™m leaving early..paying the early exit fees but I just donâ€™t care -itâ€™s been such a poor service!!', ' \"Nealjane\"', ' \"2 years ago\"']\n",
      "[\"In short don't use them.\\nOur phone line and internet were cut off for over a week. After an engineer could not find a fault at the exchange they sent an engineer to the house without an appointment. No one was in and then they told us they could not send another for 4 days. When the engineer did come (after a week) it turned out that the fault was at the exchange all along and the first engineer had missed it.\\nCustomer service was poor giving different excuses for not sending an engineer and it was impossible to elevate the complaint.\\nWhen the line is working we only get download speeds of max 2mbs but this regularly (every couple of days at the moment) gets dropped down to 0.2mbs. When we call the speed goes back to normal so BT must be choking the speed.\", ' \"Alex\"', ' \"2 years ago\"']\n",
      "['After ordering the broadband I had to call them just before the start of service to ask for a router. Apparently it had been forgotten to be sent out. One minute after asking for the router I received an e-mail stating my broadband order had been cancelled. Nobody could tell me why this had happened and I had to wait 5 days before anyone contacted me. When they did they just said they didnâ€™t know why it was cancelled and that I woud have to start the order again from the start. Apart from â€˜Iâ€™m sorryâ€™ there was no offer of compensation or anything. I had to beg my previous provider not to terminate my broadband/phone. NOT recommended! I wish I had read these reviews before wasting my time. Very disappointed that John Lewis are treating their customers in this way.', ' \"Swlondon\"', ' \"3 years ago\"']\n",
      "['Their broadband is operated by Plusnet who are also reliable should be amazing really.', ' \"Simon\"', ' \"4 years ago\"']\n",
      "['This must be the perfect supplier - No bleats from anyone - then again perhaps nobody uses them!', ' \"Roger That\"', ' \"6 years ago\"']\n"
     ]
    }
   ],
   "source": [
    "comments = []\n",
    "with open (\"JLAllPages.csv\", \"r\") as file:\n",
    "    reader = csv.reader(file)\n",
    "    for row in reader:\n",
    "        comments.append(row)\n",
    "        print (row)"
   ]
  },
  {
   "cell_type": "code",
   "execution_count": 55,
   "id": "0a68b8ea",
   "metadata": {},
   "outputs": [
    {
     "data": {
      "text/plain": [
       "\"if i could give zero or negative ratings i would. dire customer service broadband speeds not as promised and additionally they promised an engineer to visit for connection purposes on signing up. the engineer didn't show up and i had taken a day off as a/l. losing a day of a/l. when i phoned they said even though i had received confirmation of the engineer visiting by email my order had not yet been placed! no refund of anything given for this and internet connection delayed by a month. please guys cut your losses. do not sign up with jl broadband.\""
      ]
     },
     "execution_count": 55,
     "metadata": {},
     "output_type": "execute_result"
    }
   ],
   "source": [
    "comments[8][0].lower()"
   ]
  },
  {
   "cell_type": "code",
   "execution_count": 57,
   "id": "e04414e6",
   "metadata": {},
   "outputs": [
    {
     "name": "stdout",
     "output_type": "stream",
     "text": [
      "-0.375\n"
     ]
    }
   ],
   "source": [
    "blob = TextBlob(comments[8][0])\n",
    "sentiment = blob.sentiment.polarity\n",
    "print (sentiment)"
   ]
  },
  {
   "cell_type": "code",
   "execution_count": null,
   "id": "ee984bb9",
   "metadata": {},
   "outputs": [],
   "source": [
    "for comment[i][0]"
   ]
  },
  {
   "cell_type": "code",
   "execution_count": null,
   "id": "46f8c9b4",
   "metadata": {},
   "outputs": [],
   "source": []
  },
  {
   "cell_type": "code",
   "execution_count": 9,
   "id": "5a41f8fc",
   "metadata": {},
   "outputs": [],
   "source": [
    "JL = open (\"JohnLewisReviews.txt\")\n",
    "JL_text = JL.read()"
   ]
  },
  {
   "cell_type": "code",
   "execution_count": 10,
   "id": "cc9ba814",
   "metadata": {},
   "outputs": [],
   "source": [
    "def clean_text_round1(text):\n",
    "#lowercase\n",
    "    text = text.lower()\n",
    "#replace square brackets and content inside with ''\n",
    "    text = re.sub('\\[.*?\\]', '', text)\n",
    "#remove instances of punctuation\n",
    "    text = re.sub('[%s]' % re.escape(string.punctuation), '', text)\n",
    "#remove numbers and words attached to numbers\n",
    "    text = re.sub('\\w*\\d\\w*', '', text)\n",
    "    return text"
   ]
  },
  {
   "cell_type": "code",
   "execution_count": 11,
   "id": "1fb57f2c",
   "metadata": {},
   "outputs": [
    {
     "data": {
      "text/plain": [
       "['I am currently a plusnet broadband customer which I am happy to continue using.',\n",
       " 'However as my contract has now ended and plusnet will not give me the new customer\" cashback incentive I am considering switching to John Lewis who are effectively still plusnet to my knowledge.',\n",
       " 'In theory if I switch to John Lewis it should be the same service but I will get the current Â£75 black Friday deal as a new customer.',\n",
       " 'Has anyone used both providers before?',\n",
       " 'I am presuming it would be a fairly straightforward switch over considering they are effectively the same isp.\"Avoid.',\n",
       " 'Avoid.',\n",
       " 'Avoid.',\n",
       " 'First John Lewis Broadband failed to process my order and I incurred increased charges from my old supplier.',\n",
       " \"Then John Lewis Broadband never actually got around to pressing the 'on' button to connect my broadband when they were supposed to.\",\n",
       " \"Just when I thought I'd escaped these incompetents by moving to a new supplier when they jacked their prices up - it now turns out that John Lewis Broadband haven't actually disconnected my broadband and think they are still supplying me.\",\n",
       " \"Customer service don't know what they're doing and don't respond to online messages sent via my account.\",\n",
       " 'This is gong to effect my future relationship with Plusnet who I believe are the brains behind this outfit.',\n",
       " \"Very damaging for their brand to be associated with this lot.They've taken my money and won't refund.\",\n",
       " 'I cancelled within 14 days.',\n",
       " \"Since they lied to make a sale and it wasn't possible to get the service they said they would.\",\n",
       " 'In addition to this they never spelt my name email etc correctly and were unable to correct this.',\n",
       " \"They've taken my Â£29 and no one will give it back.\",\n",
       " \"i've spoken with over 10 'customer reps' each one less willing to help than the last.\",\n",
       " \"Many don't have a good grasp of english and don't want to help.\",\n",
       " \"A manager promised to call back but didn't.I ordered broadband with telephone for a recently rented property and paid Â£75.00 up front.\",\n",
       " 'I was offered three dates for an engineer to visit and the box would be delivered beforehand.',\n",
       " 'Needless to say I have not received the box and no engineer has arrived.',\n",
       " 'I went online to my account and tried to make contact firstly via a mail box however I gave not received a response despite the promise of a reply within 24hrs.',\n",
       " 'I also telephoned the customer service number and waited more than 3hours on hold before giving up.',\n",
       " 'John Lewis should stick to retail and not venture into areas they cannot deliver on.',\n",
       " 'I am at the stage now that I will never spend money on anything related to the John Lewis/Waitrose group in future.Poor internet phone line went down a few timesI ordered broadband 5 weeks ago still not heard anything.',\n",
       " 'As I am writing this review I am on hold for the third day in a row to try and get through to cancel my order.',\n",
       " 'At the moment I am into 103 minutes on hold.',\n",
       " 'I am determined to get to speak to someone to cancel.',\n",
       " 'I tried there online method which they say that they respond to in 24 hrs but that was 6 days ago.',\n",
       " \"I don't normally write reviews but this service is RUBBISH and so is the music whilst your being ignored by the shocking staff.Have waited 3 weeks since I applied for John Lewis broadband I shouldâ€™ve gone live on the 19th and every day when I phone they tell me 48 hours 40 hours later they tell me 48 hours et cetera et cetera I have asked to speak to a supervisor or manager and they tell me they donâ€™t exist and that basically I just have to keep putting up with it terrible to treat people in isolation like this.If I could give zero or negative ratings I would.\",\n",
       " 'Dire customer service broadband speeds not as promised and additionally they promised an engineer to visit for connection purposes on signing up.',\n",
       " \"The engineer didn't show up and I had taken a day off as A/L.\",\n",
       " 'Losing a day of A/L.',\n",
       " 'When i phoned they said even though I had received confirmation of the engineer visiting by email my order had not yet been placed!',\n",
       " 'No refund of anything given for this and internet connection delayed by a month.',\n",
       " 'Please guys cut your losses.',\n",
       " 'Do not sign up with JL broadband.John Lewis broadband deserve a positive review my parents use them and never have any problems.',\n",
       " 'This is who I will be switching to when my contract expires next month.Avoid.',\n",
       " 'Avoid.',\n",
       " 'Avoid.',\n",
       " 'The worst broadband quality and poorest service Iâ€™ve ever encountered.',\n",
       " 'Service just cut out endlessly every day..',\n",
       " 'Spent 4 months trying to rectify by speaking with technical support.',\n",
       " '8 different people suggested 8 alternative â€˜fixesâ€™.',\n",
       " 'None worked.',\n",
       " 'Am currently in process of transferring.',\n",
       " 'Relative also experiencing similar pitifully slow interrupted broadband.',\n",
       " 'Have terminated contract and despite JL agreeing on the phone to waive the early termination fee theyâ€™ve immediately written to an 81 year old lady demanding early closure fees.',\n",
       " 'By the way JL broadband is just Plusnet with JL fronting it\\n\\nThey are the worst company Iâ€™ve ever had the misfortune to deal with a recommend to avoid like the plagueNot only my go live date was delayed but once we got the broadband it was absolutely shocking.',\n",
       " 'The connection kept dropping all the time and we spent way too much time talking to their technical support about it.',\n",
       " 'To be fair most of the support staff were pretty good and they did send the engineer to have a look (no faults with the line found).',\n",
       " 'They were pretty funny about cancelling at first trying to tell me that we were bound by the contract but completely ignoring the fact that their service was not fit for purpose.',\n",
       " 'Ended up cancelling after one week of this disastrous connection (or lack of one for the majority of time) after spending a fortune on my mobile data as the broadband was so poor I had to use my mobile hotspot.',\n",
       " \"They didn't even refund me in full arguing that the phone line their supplied was not faulty!\",\n",
       " 'Really a let down form John Lewis never again.',\n",
       " \"Signed up with BT straight away and their free public WIFI works better than JL's ever did.Never try their broadband.\",\n",
       " 'They use a cheap router and you have to change the channels regularly to make it work.',\n",
       " 'We always have drops in our internet upto an hour long and when i ring their technical dept they say that it is expected to have at least 3 or 4 drops every 3 days ive never had that with Sky or anyone else.',\n",
       " 'We spend over Â£130 a week with Waitrose shopping and buy clothes and electricals from John Lewis and when we said we would cancel all those weekly orders for the sake of a Â£100 cancellation fee the person said i have the ability to remove the cancellation charge but i wont do it even though he knew they would loose Â£6-8000 a year in shopping.',\n",
       " 'What a joke.',\n",
       " 'We are taking it further so i would let you know what his managers say about loosing Â£8000 a year for the brand to keep Â£100 in his department.Poor service been with them a year almost and itâ€™s a monthly occurrence - poor internet phone line issues...yet again today phone line is down internet slow have 6 weeks to go till end of my contract...told line fault will be fixed by end of the week...Iâ€™m canâ€™t stand the poor service anymore and Iâ€™m leaving early..paying the early exit fees but I just donâ€™t care -itâ€™s been such a poor service!',\n",
       " \"!In short don't use them.\",\n",
       " 'Our phone line and internet were cut off for over a week.',\n",
       " 'After an engineer could not find a fault at the exchange they sent an engineer to the house without an appointment.',\n",
       " 'No one was in and then they told us they could not send another for 4 days.',\n",
       " 'When the engineer did come (after a week) it turned out that the fault was at the exchange all along and the first engineer had missed it.',\n",
       " 'Customer service was poor giving different excuses for not sending an engineer and it was impossible to elevate the complaint.',\n",
       " 'When the line is working we only get download speeds of max 2mbs but this regularly (every couple of days at the moment) gets dropped down to 0.2mbs.',\n",
       " 'When we call the speed goes back to normal so BT must be choking the speed.After ordering the broadband I had to call them just before the start of service to ask for a router.',\n",
       " 'Apparently it had been forgotten to be sent out.',\n",
       " 'One minute after asking for the router I received an e-mail stating my broadband order had been cancelled.',\n",
       " 'Nobody could tell me why this had happened and I had to wait 5 days before anyone contacted me.',\n",
       " 'When they did they just said they didnâ€™t know why it was cancelled and that I woud have to start the order again from the start.',\n",
       " 'Apart from â€˜Iâ€™m sorryâ€™ there was no offer of compensation or anything.',\n",
       " 'I had to beg my previous provider not to terminate my broadband/phone.',\n",
       " 'NOT recommended!',\n",
       " 'I wish I had read these reviews before wasting my time.',\n",
       " 'Very disappointed that John Lewis are treating their customers in this way.Their broadband is operated by Plusnet who are also reliable should be amazing really.This must be the perfect supplier - No bleats from anyone - then again perhaps nobody uses them!']"
      ]
     },
     "execution_count": 11,
     "metadata": {},
     "output_type": "execute_result"
    }
   ],
   "source": [
    "JL_token = nltk.sent_tokenize(JL_text)\n",
    "JL_token"
   ]
  },
  {
   "cell_type": "code",
   "execution_count": 12,
   "id": "010d85d8",
   "metadata": {},
   "outputs": [
    {
     "name": "stdout",
     "output_type": "stream",
     "text": [
      "['i am currently a plusnet broadband customer which i am happy to continue using', 'however as my contract has now ended and plusnet will not give me the new customer cashback incentive i am considering switching to john lewis who are effectively still plusnet to my knowledge', 'in theory if i switch to john lewis it should be the same service but i will get the current â£ black friday deal as a new customer', 'has anyone used both providers before', 'i am presuming it would be a fairly straightforward switch over considering they are effectively the same ispavoid', 'avoid', 'avoid', 'first john lewis broadband failed to process my order and i incurred increased charges from my old supplier', 'then john lewis broadband never actually got around to pressing the on button to connect my broadband when they were supposed to', 'just when i thought id escaped these incompetents by moving to a new supplier when they jacked their prices up  it now turns out that john lewis broadband havent actually disconnected my broadband and think they are still supplying me', 'customer service dont know what theyre doing and dont respond to online messages sent via my account', 'this is gong to effect my future relationship with plusnet who i believe are the brains behind this outfit', 'very damaging for their brand to be associated with this lottheyve taken my money and wont refund', 'i cancelled within  days', 'since they lied to make a sale and it wasnt possible to get the service they said they would', 'in addition to this they never spelt my name email etc correctly and were unable to correct this', 'theyve taken my â£ and no one will give it back', 'ive spoken with over  customer reps each one less willing to help than the last', 'many dont have a good grasp of english and dont want to help', 'a manager promised to call back but didnti ordered broadband with telephone for a recently rented property and paid â£ up front', 'i was offered three dates for an engineer to visit and the box would be delivered beforehand', 'needless to say i have not received the box and no engineer has arrived', 'i went online to my account and tried to make contact firstly via a mail box however i gave not received a response despite the promise of a reply within ', 'i also telephoned the customer service number and waited more than  on hold before giving up', 'john lewis should stick to retail and not venture into areas they cannot deliver on', 'i am at the stage now that i will never spend money on anything related to the john lewiswaitrose group in futurepoor internet phone line went down a few timesi ordered broadband  weeks ago still not heard anything', 'as i am writing this review i am on hold for the third day in a row to try and get through to cancel my order', 'at the moment i am into  minutes on hold', 'i am determined to get to speak to someone to cancel', 'i tried there online method which they say that they respond to in  hrs but that was  days ago', 'i dont normally write reviews but this service is rubbish and so is the music whilst your being ignored by the shocking staffhave waited  weeks since i applied for john lewis broadband i shouldâ€™ve gone live on the  and every day when i phone they tell me  hours  hours later they tell me  hours et cetera et cetera i have asked to speak to a supervisor or manager and they tell me they donâ€™t exist and that basically i just have to keep putting up with it terrible to treat people in isolation like thisif i could give zero or negative ratings i would', 'dire customer service broadband speeds not as promised and additionally they promised an engineer to visit for connection purposes on signing up', 'the engineer didnt show up and i had taken a day off as al', 'losing a day of al', 'when i phoned they said even though i had received confirmation of the engineer visiting by email my order had not yet been placed', 'no refund of anything given for this and internet connection delayed by a month', 'please guys cut your losses', 'do not sign up with jl broadbandjohn lewis broadband deserve a positive review my parents use them and never have any problems', 'this is who i will be switching to when my contract expires next monthavoid', 'avoid', 'avoid', 'the worst broadband quality and poorest service iâ€™ve ever encountered', 'service just cut out endlessly every day', 'spent  months trying to rectify by speaking with technical support', ' different people suggested  alternative â€˜fixesâ€™', 'none worked', 'am currently in process of transferring', 'relative also experiencing similar pitifully slow interrupted broadband', 'have terminated contract and despite jl agreeing on the phone to waive the early termination fee theyâ€™ve immediately written to an  year old lady demanding early closure fees', 'by the way jl broadband is just plusnet with jl fronting it\\n\\nthey are the worst company iâ€™ve ever had the misfortune to deal with a recommend to avoid like the plaguenot only my go live date was delayed but once we got the broadband it was absolutely shocking', 'the connection kept dropping all the time and we spent way too much time talking to their technical support about it', 'to be fair most of the support staff were pretty good and they did send the engineer to have a look no faults with the line found', 'they were pretty funny about cancelling at first trying to tell me that we were bound by the contract but completely ignoring the fact that their service was not fit for purpose', 'ended up cancelling after one week of this disastrous connection or lack of one for the majority of time after spending a fortune on my mobile data as the broadband was so poor i had to use my mobile hotspot', 'they didnt even refund me in full arguing that the phone line their supplied was not faulty', 'really a let down form john lewis never again', 'signed up with bt straight away and their free public wifi works better than jls ever didnever try their broadband', 'they use a cheap router and you have to change the channels regularly to make it work', 'we always have drops in our internet upto an hour long and when i ring their technical dept they say that it is expected to have at least  or  drops every  days ive never had that with sky or anyone else', 'we spend over â£ a week with waitrose shopping and buy clothes and electricals from john lewis and when we said we would cancel all those weekly orders for the sake of a â£ cancellation fee the person said i have the ability to remove the cancellation charge but i wont do it even though he knew they would loose â£ a year in shopping', 'what a joke', 'we are taking it further so i would let you know what his managers say about loosing â£ a year for the brand to keep â£ in his departmentpoor service been with them a year almost and itâ€™s a monthly occurrence  poor internet phone line issuesyet again today phone line is down internet slow have  weeks to go till end of my contracttold line fault will be fixed by end of the weekiâ€™m canâ€™t stand the poor service anymore and iâ€™m leaving earlypaying the early exit fees but i just donâ€™t care itâ€™s been such a poor service', 'in short dont use them', 'our phone line and internet were cut off for over a week', 'after an engineer could not find a fault at the exchange they sent an engineer to the house without an appointment', 'no one was in and then they told us they could not send another for  days', 'when the engineer did come after a week it turned out that the fault was at the exchange all along and the first engineer had missed it', 'customer service was poor giving different excuses for not sending an engineer and it was impossible to elevate the complaint', 'when the line is working we only get download speeds of max  but this regularly every couple of days at the moment gets dropped down to ', 'when we call the speed goes back to normal so bt must be choking the speedafter ordering the broadband i had to call them just before the start of service to ask for a router', 'apparently it had been forgotten to be sent out', 'one minute after asking for the router i received an email stating my broadband order had been cancelled', 'nobody could tell me why this had happened and i had to wait  days before anyone contacted me', 'when they did they just said they didnâ€™t know why it was cancelled and that i woud have to start the order again from the start', 'apart from â€˜iâ€™m sorryâ€™ there was no offer of compensation or anything', 'i had to beg my previous provider not to terminate my broadbandphone', 'not recommended', 'i wish i had read these reviews before wasting my time', 'very disappointed that john lewis are treating their customers in this waytheir broadband is operated by plusnet who are also reliable should be amazing reallythis must be the perfect supplier  no bleats from anyone  then again perhaps nobody uses them']\n"
     ]
    }
   ],
   "source": [
    "JL_clean_text = [clean_text_round1(sent) for sent in JL_token]\n",
    "print (JL_clean_text)"
   ]
  },
  {
   "cell_type": "code",
   "execution_count": 13,
   "id": "c5fd28aa",
   "metadata": {},
   "outputs": [
    {
     "data": {
      "text/plain": [
       "['i am currently a plusnet broadband customer which i am happy to continue using',\n",
       " 'however as my contract has now ended and plusnet will not give me the new customer cashback incentive i am considering switching to john lewis who are effectively still plusnet to my knowledge',\n",
       " 'in theory if i switch to john lewis it should be the same service but i will get the current â£ black friday deal as a new customer',\n",
       " 'has anyone used both providers before',\n",
       " 'i am presuming it would be a fairly straightforward switch over considering they are effectively the same ispavoid',\n",
       " 'avoid',\n",
       " 'avoid',\n",
       " 'first john lewis broadband failed to process my order and i incurred increased charges from my old supplier',\n",
       " 'then john lewis broadband never actually got around to pressing the on button to connect my broadband when they were supposed to',\n",
       " 'just when i thought id escaped these incompetents by moving to a new supplier when they jacked their prices up  it now turns out that john lewis broadband havent actually disconnected my broadband and think they are still supplying me',\n",
       " 'customer service dont know what theyre doing and dont respond to online messages sent via my account',\n",
       " 'this is gong to effect my future relationship with plusnet who i believe are the brains behind this outfit',\n",
       " 'very damaging for their brand to be associated with this lottheyve taken my money and wont refund',\n",
       " 'i cancelled within  days',\n",
       " 'since they lied to make a sale and it wasnt possible to get the service they said they would',\n",
       " 'in addition to this they never spelt my name email etc correctly and were unable to correct this',\n",
       " 'theyve taken my â£ and no one will give it back',\n",
       " 'ive spoken with over  customer reps each one less willing to help than the last',\n",
       " 'many dont have a good grasp of english and dont want to help',\n",
       " 'a manager promised to call back but didnti ordered broadband with telephone for a recently rented property and paid â£ up front',\n",
       " 'i was offered three dates for an engineer to visit and the box would be delivered beforehand',\n",
       " 'needless to say i have not received the box and no engineer has arrived',\n",
       " 'i went online to my account and tried to make contact firstly via a mail box however i gave not received a response despite the promise of a reply within ',\n",
       " 'i also telephoned the customer service number and waited more than  on hold before giving up',\n",
       " 'john lewis should stick to retail and not venture into areas they cannot deliver on',\n",
       " 'i am at the stage now that i will never spend money on anything related to the john lewiswaitrose group in futurepoor internet phone line went down a few timesi ordered broadband  weeks ago still not heard anything',\n",
       " 'as i am writing this review i am on hold for the third day in a row to try and get through to cancel my order',\n",
       " 'at the moment i am into  minutes on hold',\n",
       " 'i am determined to get to speak to someone to cancel',\n",
       " 'i tried there online method which they say that they respond to in  hrs but that was  days ago',\n",
       " 'i dont normally write reviews but this service is rubbish and so is the music whilst your being ignored by the shocking staffhave waited  weeks since i applied for john lewis broadband i shouldâ€™ve gone live on the  and every day when i phone they tell me  hours  hours later they tell me  hours et cetera et cetera i have asked to speak to a supervisor or manager and they tell me they donâ€™t exist and that basically i just have to keep putting up with it terrible to treat people in isolation like thisif i could give zero or negative ratings i would',\n",
       " 'dire customer service broadband speeds not as promised and additionally they promised an engineer to visit for connection purposes on signing up',\n",
       " 'the engineer didnt show up and i had taken a day off as al',\n",
       " 'losing a day of al',\n",
       " 'when i phoned they said even though i had received confirmation of the engineer visiting by email my order had not yet been placed',\n",
       " 'no refund of anything given for this and internet connection delayed by a month',\n",
       " 'please guys cut your losses',\n",
       " 'do not sign up with jl broadbandjohn lewis broadband deserve a positive review my parents use them and never have any problems',\n",
       " 'this is who i will be switching to when my contract expires next monthavoid',\n",
       " 'avoid',\n",
       " 'avoid',\n",
       " 'the worst broadband quality and poorest service iâ€™ve ever encountered',\n",
       " 'service just cut out endlessly every day',\n",
       " 'spent  months trying to rectify by speaking with technical support',\n",
       " ' different people suggested  alternative â€˜fixesâ€™',\n",
       " 'none worked',\n",
       " 'am currently in process of transferring',\n",
       " 'relative also experiencing similar pitifully slow interrupted broadband',\n",
       " 'have terminated contract and despite jl agreeing on the phone to waive the early termination fee theyâ€™ve immediately written to an  year old lady demanding early closure fees',\n",
       " 'by the way jl broadband is just plusnet with jl fronting it\\n\\nthey are the worst company iâ€™ve ever had the misfortune to deal with a recommend to avoid like the plaguenot only my go live date was delayed but once we got the broadband it was absolutely shocking',\n",
       " 'the connection kept dropping all the time and we spent way too much time talking to their technical support about it',\n",
       " 'to be fair most of the support staff were pretty good and they did send the engineer to have a look no faults with the line found',\n",
       " 'they were pretty funny about cancelling at first trying to tell me that we were bound by the contract but completely ignoring the fact that their service was not fit for purpose',\n",
       " 'ended up cancelling after one week of this disastrous connection or lack of one for the majority of time after spending a fortune on my mobile data as the broadband was so poor i had to use my mobile hotspot',\n",
       " 'they didnt even refund me in full arguing that the phone line their supplied was not faulty',\n",
       " 'really a let down form john lewis never again',\n",
       " 'signed up with bt straight away and their free public wifi works better than jls ever didnever try their broadband',\n",
       " 'they use a cheap router and you have to change the channels regularly to make it work',\n",
       " 'we always have drops in our internet upto an hour long and when i ring their technical dept they say that it is expected to have at least  or  drops every  days ive never had that with sky or anyone else',\n",
       " 'we spend over â£ a week with waitrose shopping and buy clothes and electricals from john lewis and when we said we would cancel all those weekly orders for the sake of a â£ cancellation fee the person said i have the ability to remove the cancellation charge but i wont do it even though he knew they would loose â£ a year in shopping',\n",
       " 'what a joke',\n",
       " 'we are taking it further so i would let you know what his managers say about loosing â£ a year for the brand to keep â£ in his departmentpoor service been with them a year almost and itâ€™s a monthly occurrence  poor internet phone line issuesyet again today phone line is down internet slow have  weeks to go till end of my contracttold line fault will be fixed by end of the weekiâ€™m canâ€™t stand the poor service anymore and iâ€™m leaving earlypaying the early exit fees but i just donâ€™t care itâ€™s been such a poor service',\n",
       " 'in short dont use them',\n",
       " 'our phone line and internet were cut off for over a week',\n",
       " 'after an engineer could not find a fault at the exchange they sent an engineer to the house without an appointment',\n",
       " 'no one was in and then they told us they could not send another for  days',\n",
       " 'when the engineer did come after a week it turned out that the fault was at the exchange all along and the first engineer had missed it',\n",
       " 'customer service was poor giving different excuses for not sending an engineer and it was impossible to elevate the complaint',\n",
       " 'when the line is working we only get download speeds of max  but this regularly every couple of days at the moment gets dropped down to ',\n",
       " 'when we call the speed goes back to normal so bt must be choking the speedafter ordering the broadband i had to call them just before the start of service to ask for a router',\n",
       " 'apparently it had been forgotten to be sent out',\n",
       " 'one minute after asking for the router i received an email stating my broadband order had been cancelled',\n",
       " 'nobody could tell me why this had happened and i had to wait  days before anyone contacted me',\n",
       " 'when they did they just said they didnâ€™t know why it was cancelled and that i woud have to start the order again from the start',\n",
       " 'apart from â€˜iâ€™m sorryâ€™ there was no offer of compensation or anything',\n",
       " 'i had to beg my previous provider not to terminate my broadbandphone',\n",
       " 'not recommended',\n",
       " 'i wish i had read these reviews before wasting my time',\n",
       " 'very disappointed that john lewis are treating their customers in this waytheir broadband is operated by plusnet who are also reliable should be amazing reallythis must be the perfect supplier  no bleats from anyone  then again perhaps nobody uses them']"
      ]
     },
     "execution_count": 13,
     "metadata": {},
     "output_type": "execute_result"
    }
   ],
   "source": [
    "JL_filtered = [word for word in JL_clean_text if word not in stop_words]\n",
    "JL_filtered"
   ]
  },
  {
   "cell_type": "code",
   "execution_count": null,
   "id": "5d489dd8",
   "metadata": {},
   "outputs": [],
   "source": []
  },
  {
   "cell_type": "code",
   "execution_count": null,
   "id": "2214c92e",
   "metadata": {},
   "outputs": [],
   "source": []
  },
  {
   "cell_type": "code",
   "execution_count": null,
   "id": "aeb2ce9a",
   "metadata": {},
   "outputs": [],
   "source": []
  },
  {
   "cell_type": "code",
   "execution_count": 73,
   "id": "bd5c9d8a",
   "metadata": {
    "scrolled": false
   },
   "outputs": [
    {
     "data": {
      "text/plain": [
       "' i am currently a plusnet broadband customer which i am happy to continue using however as my contract has now ended and plusnet will not give me the new customer cashback incentive i am considering switching to john lewis who are effectively still plusnet to my knowledge in theory if i switch to john lewis it should be the same service but i will get the current â£75 black friday deal as a new customer has anyone used both providers before i am presuming it would be a fairly straightforward switch over considering they are effectively the same isp avoid avoid avoid first john lewis broadband failed to process my order and i incurred increased charges from my old supplier then john lewis broadband never actually got around to pressing the on button to connect my broadband when they were supposed to just when i thought id escaped these incompetents by moving to a new supplier when they jacked their prices up  it now turns out that john lewis broadband havent actually disconnected my broadband and think they are still supplying me customer service dont know what theyre doing and dont respond to online messages sent via my account this is gong to effect my future relationship with plusnet who i believe are the brains behind this outfit very damaging for their brand to be associated with this lot theyve taken my money and wont refund i cancelled within 14 days since they lied to make a sale and it wasnt possible to get the service they said they would in addition to this they never spelt my name email etc correctly and were unable to correct this theyve taken my â£29 and no one will give it back ive spoken with over 10 customer reps each one less willing to help than the last many dont have a good grasp of english and dont want to help a manager promised to call back but didnt i ordered broadband with telephone for a recently rented property and paid â£7500 up front i was offered three dates for an engineer to visit and the box would be delivered beforehand needless to say i have not received the box and no engineer has arrived i went online to my account and tried to make contact firstly via a mail box however i gave not received a response despite the promise of a reply within 24hrs i also telephoned the customer service number and waited more than 3hours on hold before giving up john lewis should stick to retail and not venture into areas they cannot deliver on i am at the stage now that i will never spend money on anything related to the john lewiswaitrose group in future poor internet phone line went down a few times i ordered broadband 5 weeks ago still not heard anything as i am writing this review i am on hold for the third day in a row to try and get through to cancel my order at the moment i am into 103 minutes on hold i am determined to get to speak to someone to cancel i tried there online method which they say that they respond to in 24 hrs but that was 6 days ago i dont normally write reviews but this service is rubbish and so is the music whilst your being ignored by the shocking staff have waited 3 weeks since i applied for john lewis broadband i shouldâ€™ve gone live on the 19th and every day when i phone they tell me 48 hours 40 hours later they tell me 48 hours et cetera et cetera i have asked to speak to a supervisor or manager and they tell me they donâ€™t exist and that basically i just have to keep putting up with it terrible to treat people in isolation like this if i could give zero or negative ratings i would dire customer service broadband speeds not as promised and additionally they promised an engineer to visit for connection purposes on signing up the engineer didnt show up and i had taken a day off as al losing a day of al when i phoned they said even though i had received confirmation of the engineer visiting by email my order had not yet been placed no refund of anything given for this and internet connection delayed by a month please guys cut your losses do not sign up with jl broadband john lewis broadband deserve a positive review my parents use them and never have any problems this is who i will be switching to when my contract expires next month avoid avoid avoid the worst broadband quality and poorest service iâ€™ve ever encountered service just cut out endlessly every day spent 4 months trying to rectify by speaking with technical support 8 different people suggested 8 alternative â€˜fixesâ€™ none worked am currently in process of transferring relative also experiencing similar pitifully slow interrupted broadband have terminated contract and despite jl agreeing on the phone to waive the early termination fee theyâ€™ve immediately written to an 81 year old lady demanding early closure fees by the way jl broadband is just plusnet with jl fronting it they are the worst company iâ€™ve ever had the misfortune to deal with a recommend to avoid like the plague not only my go live date was delayed but once we got the broadband it was absolutely shocking the connection kept dropping all the time and we spent way too much time talking to their technical support about it to be fair most of the support staff were pretty good and they did send the engineer to have a look no faults with the line found they were pretty funny about cancelling at first trying to tell me that we were bound by the contract but completely ignoring the fact that their service was not fit for purpose ended up cancelling after one week of this disastrous connection or lack of one for the majority of time after spending a fortune on my mobile data as the broadband was so poor i had to use my mobile hotspot they didnt even refund me in full arguing that the phone line their supplied was not faulty really a let down form john lewis never again signed up with bt straight away and their free public wifi works better than jls ever did never try their broadband they use a cheap router and you have to change the channels regularly to make it work we always have drops in our internet upto an hour long and when i ring their technical dept they say that it is expected to have at least 3 or 4 drops every 3 days ive never had that with sky or anyone else we spend over â£130 a week with waitrose shopping and buy clothes and electricals from john lewis and when we said we would cancel all those weekly orders for the sake of a â£100 cancellation fee the person said i have the ability to remove the cancellation charge but i wont do it even though he knew they would loose â£68000 a year in shopping what a joke we are taking it further so i would let you know what his managers say about loosing â£8000 a year for the brand to keep â£100 in his department poor service been with them a year almost and itâ€™s a monthly occurrence  poor internet phone line issuesyet again today phone line is down internet slow have 6 weeks to go till end of my contracttold line fault will be fixed by end of the weekiâ€™m canâ€™t stand the poor service anymore and iâ€™m leaving earlypaying the early exit fees but i just donâ€™t care itâ€™s been such a poor service in short dont use them our phone line and internet were cut off for over a week after an engineer could not find a fault at the exchange they sent an engineer to the house without an appointment no one was in and then they told us they could not send another for 4 days when the engineer did come after a week it turned out that the fault was at the exchange all along and the first engineer had missed it customer service was poor giving different excuses for not sending an engineer and it was impossible to elevate the complaint when the line is working we only get download speeds of max 2mbs but this regularly every couple of days at the moment gets dropped down to 02mbs when we call the speed goes back to normal so bt must be choking the speed after ordering the broadband i had to call them just before the start of service to ask for a router apparently it had been forgotten to be sent out one minute after asking for the router i received an email stating my broadband order had been cancelled nobody could tell me why this had happened and i had to wait 5 days before anyone contacted me when they did they just said they didnâ€™t know why it was cancelled and that i woud have to start the order again from the start apart from â€˜iâ€™m sorryâ€™ there was no offer of compensation or anything i had to beg my previous provider not to terminate my broadbandphone not recommended i wish i had read these reviews before wasting my time very disappointed that john lewis are treating their customers in this way their broadband is operated by plusnet who are also reliable should be amazing really this must be the perfect supplier  no bleats from anyone  then again perhaps nobody uses them'"
      ]
     },
     "execution_count": 73,
     "metadata": {},
     "output_type": "execute_result"
    }
   ],
   "source": [
    "JL_cleaned_text = []\n",
    "JL_text_lower.translate(str.maketrans(\"\",\"\",string.punctuation))\n",
    "JL_cleaned_text"
   ]
  },
  {
   "cell_type": "code",
   "execution_count": 57,
   "id": "6e621eaa",
   "metadata": {},
   "outputs": [],
   "source": [
    "JL_filtered = [word for word in JL_token if word not in stop_words]"
   ]
  },
  {
   "cell_type": "code",
   "execution_count": 58,
   "id": "538a61d1",
   "metadata": {},
   "outputs": [
    {
     "data": {
      "text/plain": [
       "['currently plusnet broadband customer happy continue using however contract ended plusnet give new customer cashback incentive considering switching john lewis effectively still plusnet knowledge theory switch john lewis service get current â£75 black friday deal new customer anyone used providers presuming would fairly straightforward switch considering effectively isp avoid avoid avoid first john lewis broadband failed process order incurred increased charges old supplier john lewis broadband never actually got around pressing button connect broadband supposed thought id escaped incompetents moving new supplier jacked prices turns john lewis broadband havent actually disconnected broadband think still supplying customer service dont know theyre dont respond online messages sent via account gong effect future relationship plusnet believe brains behind outfit damaging brand associated lot theyve taken money wont refund cancelled within 14 days since lied make sale wasnt possible get service said would addition never spelt name email etc correctly unable correct theyve taken â£29 one give back ive spoken 10 customer reps one less willing help last many dont good grasp english dont want help manager promised call back didnt ordered broadband telephone recently rented property paid â£7500 front offered three dates engineer visit box would delivered beforehand needless say received box engineer arrived went online account tried make contact firstly via mail box however gave received response despite promise reply within 24hrs also telephoned customer service number waited 3hours hold giving john lewis stick retail venture areas deliver stage never spend money anything related john lewiswaitrose group future poor internet phone line went times ordered broadband 5 weeks ago still heard anything writing review hold third day row try get cancel order moment 103 minutes hold determined get speak someone cancel tried online method say respond 24 hrs 6 days ago dont normally write reviews service rubbish music whilst ignored shocking staff waited 3 weeks since applied john lewis broadband shouldâ€™ve gone live 19th every day phone tell 48 hours 40 hours later tell 48 hours et cetera et cetera asked speak supervisor manager tell donâ€™t exist basically keep putting terrible treat people isolation like could give zero negative ratings would dire customer service broadband speeds promised additionally promised engineer visit connection purposes signing engineer didnt show taken day al losing day al phoned said even though received confirmation engineer visiting email order yet placed refund anything given internet connection delayed month please guys cut losses sign jl broadband john lewis broadband deserve positive review parents use never problems switching contract expires next month avoid avoid avoid worst broadband quality poorest service iâ€™ve ever encountered service cut endlessly every day spent 4 months trying rectify speaking technical support 8 different people suggested 8 alternative â€˜fixesâ€™ none worked currently process transferring relative also experiencing similar pitifully slow interrupted broadband terminated contract despite jl agreeing phone waive early termination fee theyâ€™ve immediately written 81 year old lady demanding early closure fees way jl broadband plusnet jl fronting worst company iâ€™ve ever misfortune deal recommend avoid like plague go live date delayed got broadband absolutely shocking connection kept dropping time spent way much time talking technical support fair support staff pretty good send engineer look faults line found pretty funny cancelling first trying tell bound contract completely ignoring fact service fit purpose ended cancelling one week disastrous connection lack one majority time spending fortune mobile data broadband poor use mobile hotspot didnt even refund full arguing phone line supplied faulty really let form john lewis never signed bt straight away free public wifi works better jls ever never try broadband use cheap router change channels regularly make work always drops internet upto hour long ring technical dept say expected least 3 4 drops every 3 days ive never sky anyone else spend â£130 week waitrose shopping buy clothes electricals john lewis said would cancel weekly orders sake â£100 cancellation fee person said ability remove cancellation charge wont even though knew would loose â£68000 year shopping joke taking would let know managers say loosing â£8000 year brand keep â£100 department poor service year almost itâ€™s monthly occurrence poor internet phone line issuesyet today phone line internet slow 6 weeks go till end contracttold line fault fixed end weekiâ€™m canâ€™t stand poor service anymore iâ€™m leaving earlypaying early exit fees donâ€™t care itâ€™s poor service short dont use phone line internet cut week engineer could find fault exchange sent engineer house without appointment one told us could send another 4 days engineer come week turned fault exchange along first engineer missed customer service poor giving different excuses sending engineer impossible elevate complaint line working get download speeds max 2mbs regularly every couple days moment gets dropped 02mbs call speed goes back normal bt must choking speed ordering broadband call start service ask router apparently forgotten sent one minute asking router received email stating broadband order cancelled nobody could tell happened wait 5 days anyone contacted said didnâ€™t know cancelled woud start order start apart â€˜iâ€™m sorryâ€™ offer compensation anything beg previous provider terminate broadbandphone recommended wish read reviews wasting time disappointed john lewis treating customers way broadband operated plusnet also reliable amazing really must perfect supplier bleats anyone perhaps nobody uses']"
      ]
     },
     "execution_count": 58,
     "metadata": {},
     "output_type": "execute_result"
    }
   ],
   "source": [
    "JL_filtered_sent = (\" \").join(JL_filtered)\n",
    "JL_filtered_sent\n",
    "\n",
    "JL_sent = nltk.sent_tokenize(JL_filtered_sent)\n",
    "JL_sent"
   ]
  },
  {
   "cell_type": "code",
   "execution_count": 59,
   "id": "6cdc8937",
   "metadata": {},
   "outputs": [
    {
     "name": "stdout",
     "output_type": "stream",
     "text": [
      "\n",
      "\n",
      "-1.0\n",
      "currently plusnet broadband customer happy continue using however contract ended plusnet give new customer cashback incentive considering switching john lewis effectively still plusnet knowledge theory switch john lewis service get current â£75 black friday deal new customer anyone used providers presuming would fairly straightforward switch considering effectively isp avoid avoid avoid first john lewis broadband failed process order incurred increased charges old supplier john lewis broadband never actually got around pressing button connect broadband supposed thought id escaped incompetents moving new supplier jacked prices turns john lewis broadband havent actually disconnected broadband think still supplying customer service dont know theyre dont respond online messages sent via account gong effect future relationship plusnet believe brains behind outfit damaging brand associated lot theyve taken money wont refund cancelled within 14 days since lied make sale wasnt possible get service said would addition never spelt name email etc correctly unable correct theyve taken â£29 one give back ive spoken 10 customer reps one less willing help last many dont good grasp english dont want help manager promised call back didnt ordered broadband telephone recently rented property paid â£7500 front offered three dates engineer visit box would delivered beforehand needless say received box engineer arrived went online account tried make contact firstly via mail box however gave received response despite promise reply within 24hrs also telephoned customer service number waited 3hours hold giving john lewis stick retail venture areas deliver stage never spend money anything related john lewiswaitrose group future poor internet phone line went times ordered broadband 5 weeks ago still heard anything writing review hold third day row try get cancel order moment 103 minutes hold determined get speak someone cancel tried online method say respond 24 hrs 6 days ago dont normally write reviews service rubbish music whilst ignored shocking staff waited 3 weeks since applied john lewis broadband shouldâ€™ve gone live 19th every day phone tell 48 hours 40 hours later tell 48 hours et cetera et cetera asked speak supervisor manager tell donâ€™t exist basically keep putting terrible treat people isolation like could give zero negative ratings would dire customer service broadband speeds promised additionally promised engineer visit connection purposes signing engineer didnt show taken day al losing day al phoned said even though received confirmation engineer visiting email order yet placed refund anything given internet connection delayed month please guys cut losses sign jl broadband john lewis broadband deserve positive review parents use never problems switching contract expires next month avoid avoid avoid worst broadband quality poorest service iâ€™ve ever encountered service cut endlessly every day spent 4 months trying rectify speaking technical support 8 different people suggested 8 alternative â€˜fixesâ€™ none worked currently process transferring relative also experiencing similar pitifully slow interrupted broadband terminated contract despite jl agreeing phone waive early termination fee theyâ€™ve immediately written 81 year old lady demanding early closure fees way jl broadband plusnet jl fronting worst company iâ€™ve ever misfortune deal recommend avoid like plague go live date delayed got broadband absolutely shocking connection kept dropping time spent way much time talking technical support fair support staff pretty good send engineer look faults line found pretty funny cancelling first trying tell bound contract completely ignoring fact service fit purpose ended cancelling one week disastrous connection lack one majority time spending fortune mobile data broadband poor use mobile hotspot didnt even refund full arguing phone line supplied faulty really let form john lewis never signed bt straight away free public wifi works better jls ever never try broadband use cheap router change channels regularly make work always drops internet upto hour long ring technical dept say expected least 3 4 drops every 3 days ive never sky anyone else spend â£130 week waitrose shopping buy clothes electricals john lewis said would cancel weekly orders sake â£100 cancellation fee person said ability remove cancellation charge wont even though knew would loose â£68000 year shopping joke taking would let know managers say loosing â£8000 year brand keep â£100 department poor service year almost itâ€™s monthly occurrence poor internet phone line issuesyet today phone line internet slow 6 weeks go till end contracttold line fault fixed end weekiâ€™m canâ€™t stand poor service anymore iâ€™m leaving earlypaying early exit fees donâ€™t care itâ€™s poor service short dont use phone line internet cut week engineer could find fault exchange sent engineer house without appointment one told us could send another 4 days engineer come week turned fault exchange along first engineer missed customer service poor giving different excuses sending engineer impossible elevate complaint line working get download speeds max 2mbs regularly every couple days moment gets dropped 02mbs call speed goes back normal bt must choking speed ordering broadband call start service ask router apparently forgotten sent one minute asking router received email stating broadband order cancelled nobody could tell happened wait 5 days anyone contacted said didnâ€™t know cancelled woud start order start apart â€˜iâ€™m sorryâ€™ offer compensation anything beg previous provider terminate broadbandphone recommended wish read reviews wasting time disappointed john lewis treating customers way broadband operated plusnet also reliable amazing really must perfect supplier bleats anyone perhaps nobody uses\n"
     ]
    }
   ],
   "source": [
    "for sent in JL_sent:\n",
    "    print (\"\\n\")\n",
    "    print (np.average(sentiment(str(review))))\n",
    "    print (sent)"
   ]
  },
  {
   "cell_type": "code",
   "execution_count": null,
   "id": "ce04bfcd",
   "metadata": {},
   "outputs": [],
   "source": []
  }
 ],
 "metadata": {
  "kernelspec": {
   "display_name": "Python 3 (ipykernel)",
   "language": "python",
   "name": "python3"
  },
  "language_info": {
   "codemirror_mode": {
    "name": "ipython",
    "version": 3
   },
   "file_extension": ".py",
   "mimetype": "text/x-python",
   "name": "python",
   "nbconvert_exporter": "python",
   "pygments_lexer": "ipython3",
   "version": "3.9.7"
  }
 },
 "nbformat": 4,
 "nbformat_minor": 5
}
